{
 "cells": [
  {
   "cell_type": "code",
   "execution_count": 1,
   "id": "036ae3b8",
   "metadata": {
    "_cell_guid": "b1076dfc-b9ad-4769-8c92-a6c4dae69d19",
    "_uuid": "8f2839f25d086af736a60e9eeb907d3b93b6e0e5",
    "execution": {
     "iopub.execute_input": "2025-08-09T11:28:26.978409Z",
     "iopub.status.busy": "2025-08-09T11:28:26.978096Z",
     "iopub.status.idle": "2025-08-09T11:28:30.198572Z",
     "shell.execute_reply": "2025-08-09T11:28:30.197850Z"
    },
    "papermill": {
     "duration": 3.227742,
     "end_time": "2025-08-09T11:28:30.200164",
     "exception": false,
     "start_time": "2025-08-09T11:28:26.972422",
     "status": "completed"
    },
    "tags": []
   },
   "outputs": [],
   "source": [
    "import pandas as pd\n",
    "import matplotlib.pyplot as plt\n",
    "import seaborn as sns\n"
   ]
  },
  {
   "cell_type": "code",
   "execution_count": 2,
   "id": "7b375a01",
   "metadata": {
    "execution": {
     "iopub.execute_input": "2025-08-09T11:28:30.208565Z",
     "iopub.status.busy": "2025-08-09T11:28:30.207702Z",
     "iopub.status.idle": "2025-08-09T11:28:30.227436Z",
     "shell.execute_reply": "2025-08-09T11:28:30.226524Z"
    },
    "papermill": {
     "duration": 0.025326,
     "end_time": "2025-08-09T11:28:30.229093",
     "exception": false,
     "start_time": "2025-08-09T11:28:30.203767",
     "status": "completed"
    },
    "tags": []
   },
   "outputs": [],
   "source": [
    "iris = pd.read_csv(\"/kaggle/input/iris/Iris.csv\")"
   ]
  },
  {
   "cell_type": "markdown",
   "id": "59fc3c9f",
   "metadata": {
    "papermill": {
     "duration": 0.003018,
     "end_time": "2025-08-09T11:28:30.235725",
     "exception": false,
     "start_time": "2025-08-09T11:28:30.232707",
     "status": "completed"
    },
    "tags": []
   },
   "source": [
    "Hoeveel rijen en kolommen met shape"
   ]
  },
  {
   "cell_type": "code",
   "execution_count": 3,
   "id": "f1471b8d",
   "metadata": {
    "execution": {
     "iopub.execute_input": "2025-08-09T11:28:30.243169Z",
     "iopub.status.busy": "2025-08-09T11:28:30.242622Z",
     "iopub.status.idle": "2025-08-09T11:28:30.248516Z",
     "shell.execute_reply": "2025-08-09T11:28:30.247695Z"
    },
    "papermill": {
     "duration": 0.011142,
     "end_time": "2025-08-09T11:28:30.249909",
     "exception": false,
     "start_time": "2025-08-09T11:28:30.238767",
     "status": "completed"
    },
    "tags": []
   },
   "outputs": [
    {
     "data": {
      "text/plain": [
       "(150, 6)"
      ]
     },
     "execution_count": 3,
     "metadata": {},
     "output_type": "execute_result"
    }
   ],
   "source": [
    "iris.shape"
   ]
  },
  {
   "cell_type": "code",
   "execution_count": 4,
   "id": "3bf64e97",
   "metadata": {
    "execution": {
     "iopub.execute_input": "2025-08-09T11:28:30.257914Z",
     "iopub.status.busy": "2025-08-09T11:28:30.257260Z",
     "iopub.status.idle": "2025-08-09T11:28:30.263715Z",
     "shell.execute_reply": "2025-08-09T11:28:30.262993Z"
    },
    "papermill": {
     "duration": 0.011646,
     "end_time": "2025-08-09T11:28:30.264942",
     "exception": false,
     "start_time": "2025-08-09T11:28:30.253296",
     "status": "completed"
    },
    "tags": []
   },
   "outputs": [
    {
     "data": {
      "text/plain": [
       "Index(['Id', 'SepalLengthCm', 'SepalWidthCm', 'PetalLengthCm', 'PetalWidthCm',\n",
       "       'Species'],\n",
       "      dtype='object')"
      ]
     },
     "execution_count": 4,
     "metadata": {},
     "output_type": "execute_result"
    }
   ],
   "source": [
    "iris.columns"
   ]
  },
  {
   "cell_type": "markdown",
   "id": "4a60545e",
   "metadata": {
    "papermill": {
     "duration": 0.003235,
     "end_time": "2025-08-09T11:28:30.271657",
     "exception": false,
     "start_time": "2025-08-09T11:28:30.268422",
     "status": "completed"
    },
    "tags": []
   },
   "source": [
    "Kolomnamen"
   ]
  },
  {
   "cell_type": "code",
   "execution_count": 5,
   "id": "609f542c",
   "metadata": {
    "execution": {
     "iopub.execute_input": "2025-08-09T11:28:30.279524Z",
     "iopub.status.busy": "2025-08-09T11:28:30.279239Z",
     "iopub.status.idle": "2025-08-09T11:28:30.287914Z",
     "shell.execute_reply": "2025-08-09T11:28:30.287386Z"
    },
    "papermill": {
     "duration": 0.014155,
     "end_time": "2025-08-09T11:28:30.289109",
     "exception": false,
     "start_time": "2025-08-09T11:28:30.274954",
     "status": "completed"
    },
    "tags": []
   },
   "outputs": [
    {
     "data": {
      "text/plain": [
       "Id                 int64\n",
       "SepalLengthCm    float64\n",
       "SepalWidthCm     float64\n",
       "PetalLengthCm    float64\n",
       "PetalWidthCm     float64\n",
       "Species           object\n",
       "dtype: object"
      ]
     },
     "execution_count": 5,
     "metadata": {},
     "output_type": "execute_result"
    }
   ],
   "source": [
    "# iris.info()\n",
    "iris.dtypes"
   ]
  },
  {
   "cell_type": "code",
   "execution_count": 6,
   "id": "6e88f2f1",
   "metadata": {
    "execution": {
     "iopub.execute_input": "2025-08-09T11:28:30.296810Z",
     "iopub.status.busy": "2025-08-09T11:28:30.296577Z",
     "iopub.status.idle": "2025-08-09T11:28:30.315798Z",
     "shell.execute_reply": "2025-08-09T11:28:30.314785Z"
    },
    "papermill": {
     "duration": 0.024605,
     "end_time": "2025-08-09T11:28:30.317239",
     "exception": false,
     "start_time": "2025-08-09T11:28:30.292634",
     "status": "completed"
    },
    "tags": []
   },
   "outputs": [
    {
     "name": "stdout",
     "output_type": "stream",
     "text": [
      "<class 'pandas.core.frame.DataFrame'>\n",
      "RangeIndex: 150 entries, 0 to 149\n",
      "Data columns (total 6 columns):\n",
      " #   Column         Non-Null Count  Dtype  \n",
      "---  ------         --------------  -----  \n",
      " 0   Id             150 non-null    int64  \n",
      " 1   SepalLengthCm  150 non-null    float64\n",
      " 2   SepalWidthCm   150 non-null    float64\n",
      " 3   PetalLengthCm  150 non-null    float64\n",
      " 4   PetalWidthCm   150 non-null    float64\n",
      " 5   Species        150 non-null    object \n",
      "dtypes: float64(4), int64(1), object(1)\n",
      "memory usage: 7.2+ KB\n"
     ]
    }
   ],
   "source": [
    "iris.info()"
   ]
  },
  {
   "cell_type": "code",
   "execution_count": 7,
   "id": "5b4a6ac9",
   "metadata": {
    "execution": {
     "iopub.execute_input": "2025-08-09T11:28:30.325523Z",
     "iopub.status.busy": "2025-08-09T11:28:30.324914Z",
     "iopub.status.idle": "2025-08-09T11:28:30.332600Z",
     "shell.execute_reply": "2025-08-09T11:28:30.331832Z"
    },
    "papermill": {
     "duration": 0.01297,
     "end_time": "2025-08-09T11:28:30.333797",
     "exception": false,
     "start_time": "2025-08-09T11:28:30.320827",
     "status": "completed"
    },
    "tags": []
   },
   "outputs": [
    {
     "data": {
      "text/plain": [
       "Id               150\n",
       "SepalLengthCm    150\n",
       "SepalWidthCm     150\n",
       "PetalLengthCm    150\n",
       "PetalWidthCm     150\n",
       "Species          150\n",
       "dtype: int64"
      ]
     },
     "execution_count": 7,
     "metadata": {},
     "output_type": "execute_result"
    }
   ],
   "source": [
    "iris.isna().count()"
   ]
  },
  {
   "cell_type": "code",
   "execution_count": 8,
   "id": "f8a81421",
   "metadata": {
    "execution": {
     "iopub.execute_input": "2025-08-09T11:28:30.342416Z",
     "iopub.status.busy": "2025-08-09T11:28:30.342178Z",
     "iopub.status.idle": "2025-08-09T11:28:30.356915Z",
     "shell.execute_reply": "2025-08-09T11:28:30.356299Z"
    },
    "papermill": {
     "duration": 0.020753,
     "end_time": "2025-08-09T11:28:30.358133",
     "exception": false,
     "start_time": "2025-08-09T11:28:30.337380",
     "status": "completed"
    },
    "tags": []
   },
   "outputs": [
    {
     "data": {
      "text/plain": [
       "<bound method NDFrame.describe of       Id  SepalLengthCm  SepalWidthCm  PetalLengthCm  PetalWidthCm  \\\n",
       "0      1            5.1           3.5            1.4           0.2   \n",
       "1      2            4.9           3.0            1.4           0.2   \n",
       "2      3            4.7           3.2            1.3           0.2   \n",
       "3      4            4.6           3.1            1.5           0.2   \n",
       "4      5            5.0           3.6            1.4           0.2   \n",
       "..   ...            ...           ...            ...           ...   \n",
       "145  146            6.7           3.0            5.2           2.3   \n",
       "146  147            6.3           2.5            5.0           1.9   \n",
       "147  148            6.5           3.0            5.2           2.0   \n",
       "148  149            6.2           3.4            5.4           2.3   \n",
       "149  150            5.9           3.0            5.1           1.8   \n",
       "\n",
       "            Species  \n",
       "0       Iris-setosa  \n",
       "1       Iris-setosa  \n",
       "2       Iris-setosa  \n",
       "3       Iris-setosa  \n",
       "4       Iris-setosa  \n",
       "..              ...  \n",
       "145  Iris-virginica  \n",
       "146  Iris-virginica  \n",
       "147  Iris-virginica  \n",
       "148  Iris-virginica  \n",
       "149  Iris-virginica  \n",
       "\n",
       "[150 rows x 6 columns]>"
      ]
     },
     "execution_count": 8,
     "metadata": {},
     "output_type": "execute_result"
    }
   ],
   "source": [
    "iris.describe"
   ]
  },
  {
   "cell_type": "code",
   "execution_count": 9,
   "id": "280f9869",
   "metadata": {
    "execution": {
     "iopub.execute_input": "2025-08-09T11:28:30.366652Z",
     "iopub.status.busy": "2025-08-09T11:28:30.366381Z",
     "iopub.status.idle": "2025-08-09T11:28:30.374502Z",
     "shell.execute_reply": "2025-08-09T11:28:30.373835Z"
    },
    "papermill": {
     "duration": 0.01372,
     "end_time": "2025-08-09T11:28:30.375723",
     "exception": false,
     "start_time": "2025-08-09T11:28:30.362003",
     "status": "completed"
    },
    "tags": []
   },
   "outputs": [
    {
     "data": {
      "text/plain": [
       "Species\n",
       "Iris-setosa        5.006\n",
       "Iris-versicolor    5.936\n",
       "Iris-virginica     6.588\n",
       "Name: SepalLengthCm, dtype: float64"
      ]
     },
     "execution_count": 9,
     "metadata": {},
     "output_type": "execute_result"
    }
   ],
   "source": [
    "iris.groupby(\"Species\")[\"SepalLengthCm\"].mean()"
   ]
  },
  {
   "cell_type": "code",
   "execution_count": 10,
   "id": "f7c6e204",
   "metadata": {
    "execution": {
     "iopub.execute_input": "2025-08-09T11:28:30.384382Z",
     "iopub.status.busy": "2025-08-09T11:28:30.384114Z",
     "iopub.status.idle": "2025-08-09T11:28:30.393225Z",
     "shell.execute_reply": "2025-08-09T11:28:30.392386Z"
    },
    "papermill": {
     "duration": 0.014956,
     "end_time": "2025-08-09T11:28:30.394657",
     "exception": false,
     "start_time": "2025-08-09T11:28:30.379701",
     "status": "completed"
    },
    "tags": []
   },
   "outputs": [
    {
     "data": {
      "text/plain": [
       "<bound method NDFrame.describe of       Id  SepalLengthCm  SepalWidthCm  PetalLengthCm  PetalWidthCm  \\\n",
       "0      1            5.1           3.5            1.4           0.2   \n",
       "1      2            4.9           3.0            1.4           0.2   \n",
       "2      3            4.7           3.2            1.3           0.2   \n",
       "3      4            4.6           3.1            1.5           0.2   \n",
       "4      5            5.0           3.6            1.4           0.2   \n",
       "..   ...            ...           ...            ...           ...   \n",
       "145  146            6.7           3.0            5.2           2.3   \n",
       "146  147            6.3           2.5            5.0           1.9   \n",
       "147  148            6.5           3.0            5.2           2.0   \n",
       "148  149            6.2           3.4            5.4           2.3   \n",
       "149  150            5.9           3.0            5.1           1.8   \n",
       "\n",
       "            Species  \n",
       "0       Iris-setosa  \n",
       "1       Iris-setosa  \n",
       "2       Iris-setosa  \n",
       "3       Iris-setosa  \n",
       "4       Iris-setosa  \n",
       "..              ...  \n",
       "145  Iris-virginica  \n",
       "146  Iris-virginica  \n",
       "147  Iris-virginica  \n",
       "148  Iris-virginica  \n",
       "149  Iris-virginica  \n",
       "\n",
       "[150 rows x 6 columns]>"
      ]
     },
     "execution_count": 10,
     "metadata": {},
     "output_type": "execute_result"
    }
   ],
   "source": [
    "iris.describe"
   ]
  },
  {
   "cell_type": "code",
   "execution_count": 11,
   "id": "744f2394",
   "metadata": {
    "execution": {
     "iopub.execute_input": "2025-08-09T11:28:30.402756Z",
     "iopub.status.busy": "2025-08-09T11:28:30.402515Z",
     "iopub.status.idle": "2025-08-09T11:28:30.408811Z",
     "shell.execute_reply": "2025-08-09T11:28:30.407993Z"
    },
    "papermill": {
     "duration": 0.011772,
     "end_time": "2025-08-09T11:28:30.410148",
     "exception": false,
     "start_time": "2025-08-09T11:28:30.398376",
     "status": "completed"
    },
    "tags": []
   },
   "outputs": [
    {
     "data": {
      "text/plain": [
       "Species\n",
       "Iris-setosa        50\n",
       "Iris-versicolor    50\n",
       "Iris-virginica     50\n",
       "Name: count, dtype: int64"
      ]
     },
     "execution_count": 11,
     "metadata": {},
     "output_type": "execute_result"
    }
   ],
   "source": [
    "iris[\"Species\"].value_counts()"
   ]
  },
  {
   "cell_type": "markdown",
   "id": "119e3c03",
   "metadata": {
    "papermill": {
     "duration": 0.003753,
     "end_time": "2025-08-09T11:28:30.417700",
     "exception": false,
     "start_time": "2025-08-09T11:28:30.413947",
     "status": "completed"
    },
    "tags": []
   },
   "source": [
    "sns.sclatterplot(data = iris, x = 'sepal_length', y = 'sepal_width')"
   ]
  },
  {
   "cell_type": "code",
   "execution_count": 12,
   "id": "7e4f8d7f",
   "metadata": {
    "execution": {
     "iopub.execute_input": "2025-08-09T11:28:30.426445Z",
     "iopub.status.busy": "2025-08-09T11:28:30.426152Z",
     "iopub.status.idle": "2025-08-09T11:28:30.444613Z",
     "shell.execute_reply": "2025-08-09T11:28:30.443923Z"
    },
    "papermill": {
     "duration": 0.024217,
     "end_time": "2025-08-09T11:28:30.445846",
     "exception": false,
     "start_time": "2025-08-09T11:28:30.421629",
     "status": "completed"
    },
    "tags": []
   },
   "outputs": [
    {
     "data": {
      "text/html": [
       "<div>\n",
       "<style scoped>\n",
       "    .dataframe tbody tr th:only-of-type {\n",
       "        vertical-align: middle;\n",
       "    }\n",
       "\n",
       "    .dataframe tbody tr th {\n",
       "        vertical-align: top;\n",
       "    }\n",
       "\n",
       "    .dataframe thead th {\n",
       "        text-align: right;\n",
       "    }\n",
       "</style>\n",
       "<table border=\"1\" class=\"dataframe\">\n",
       "  <thead>\n",
       "    <tr style=\"text-align: right;\">\n",
       "      <th></th>\n",
       "      <th>Id</th>\n",
       "      <th>SepalLengthCm</th>\n",
       "      <th>SepalWidthCm</th>\n",
       "      <th>PetalLengthCm</th>\n",
       "      <th>PetalWidthCm</th>\n",
       "      <th>Species</th>\n",
       "    </tr>\n",
       "  </thead>\n",
       "  <tbody>\n",
       "    <tr>\n",
       "      <th>0</th>\n",
       "      <td>1</td>\n",
       "      <td>5.1</td>\n",
       "      <td>3.5</td>\n",
       "      <td>1.4</td>\n",
       "      <td>0.2</td>\n",
       "      <td>Iris-setosa</td>\n",
       "    </tr>\n",
       "    <tr>\n",
       "      <th>1</th>\n",
       "      <td>2</td>\n",
       "      <td>4.9</td>\n",
       "      <td>3.0</td>\n",
       "      <td>1.4</td>\n",
       "      <td>0.2</td>\n",
       "      <td>Iris-setosa</td>\n",
       "    </tr>\n",
       "    <tr>\n",
       "      <th>2</th>\n",
       "      <td>3</td>\n",
       "      <td>4.7</td>\n",
       "      <td>3.2</td>\n",
       "      <td>1.3</td>\n",
       "      <td>0.2</td>\n",
       "      <td>Iris-setosa</td>\n",
       "    </tr>\n",
       "    <tr>\n",
       "      <th>3</th>\n",
       "      <td>4</td>\n",
       "      <td>4.6</td>\n",
       "      <td>3.1</td>\n",
       "      <td>1.5</td>\n",
       "      <td>0.2</td>\n",
       "      <td>Iris-setosa</td>\n",
       "    </tr>\n",
       "    <tr>\n",
       "      <th>4</th>\n",
       "      <td>5</td>\n",
       "      <td>5.0</td>\n",
       "      <td>3.6</td>\n",
       "      <td>1.4</td>\n",
       "      <td>0.2</td>\n",
       "      <td>Iris-setosa</td>\n",
       "    </tr>\n",
       "    <tr>\n",
       "      <th>...</th>\n",
       "      <td>...</td>\n",
       "      <td>...</td>\n",
       "      <td>...</td>\n",
       "      <td>...</td>\n",
       "      <td>...</td>\n",
       "      <td>...</td>\n",
       "    </tr>\n",
       "    <tr>\n",
       "      <th>145</th>\n",
       "      <td>146</td>\n",
       "      <td>6.7</td>\n",
       "      <td>3.0</td>\n",
       "      <td>5.2</td>\n",
       "      <td>2.3</td>\n",
       "      <td>Iris-virginica</td>\n",
       "    </tr>\n",
       "    <tr>\n",
       "      <th>146</th>\n",
       "      <td>147</td>\n",
       "      <td>6.3</td>\n",
       "      <td>2.5</td>\n",
       "      <td>5.0</td>\n",
       "      <td>1.9</td>\n",
       "      <td>Iris-virginica</td>\n",
       "    </tr>\n",
       "    <tr>\n",
       "      <th>147</th>\n",
       "      <td>148</td>\n",
       "      <td>6.5</td>\n",
       "      <td>3.0</td>\n",
       "      <td>5.2</td>\n",
       "      <td>2.0</td>\n",
       "      <td>Iris-virginica</td>\n",
       "    </tr>\n",
       "    <tr>\n",
       "      <th>148</th>\n",
       "      <td>149</td>\n",
       "      <td>6.2</td>\n",
       "      <td>3.4</td>\n",
       "      <td>5.4</td>\n",
       "      <td>2.3</td>\n",
       "      <td>Iris-virginica</td>\n",
       "    </tr>\n",
       "    <tr>\n",
       "      <th>149</th>\n",
       "      <td>150</td>\n",
       "      <td>5.9</td>\n",
       "      <td>3.0</td>\n",
       "      <td>5.1</td>\n",
       "      <td>1.8</td>\n",
       "      <td>Iris-virginica</td>\n",
       "    </tr>\n",
       "  </tbody>\n",
       "</table>\n",
       "<p>150 rows × 6 columns</p>\n",
       "</div>"
      ],
      "text/plain": [
       "      Id  SepalLengthCm  SepalWidthCm  PetalLengthCm  PetalWidthCm  \\\n",
       "0      1            5.1           3.5            1.4           0.2   \n",
       "1      2            4.9           3.0            1.4           0.2   \n",
       "2      3            4.7           3.2            1.3           0.2   \n",
       "3      4            4.6           3.1            1.5           0.2   \n",
       "4      5            5.0           3.6            1.4           0.2   \n",
       "..   ...            ...           ...            ...           ...   \n",
       "145  146            6.7           3.0            5.2           2.3   \n",
       "146  147            6.3           2.5            5.0           1.9   \n",
       "147  148            6.5           3.0            5.2           2.0   \n",
       "148  149            6.2           3.4            5.4           2.3   \n",
       "149  150            5.9           3.0            5.1           1.8   \n",
       "\n",
       "            Species  \n",
       "0       Iris-setosa  \n",
       "1       Iris-setosa  \n",
       "2       Iris-setosa  \n",
       "3       Iris-setosa  \n",
       "4       Iris-setosa  \n",
       "..              ...  \n",
       "145  Iris-virginica  \n",
       "146  Iris-virginica  \n",
       "147  Iris-virginica  \n",
       "148  Iris-virginica  \n",
       "149  Iris-virginica  \n",
       "\n",
       "[150 rows x 6 columns]"
      ]
     },
     "execution_count": 12,
     "metadata": {},
     "output_type": "execute_result"
    }
   ],
   "source": [
    "iris\n"
   ]
  },
  {
   "cell_type": "code",
   "execution_count": 13,
   "id": "6af5f91b",
   "metadata": {
    "execution": {
     "iopub.execute_input": "2025-08-09T11:28:30.454958Z",
     "iopub.status.busy": "2025-08-09T11:28:30.454701Z",
     "iopub.status.idle": "2025-08-09T11:28:30.939377Z",
     "shell.execute_reply": "2025-08-09T11:28:30.938092Z"
    },
    "papermill": {
     "duration": 0.491213,
     "end_time": "2025-08-09T11:28:30.941328",
     "exception": false,
     "start_time": "2025-08-09T11:28:30.450115",
     "status": "completed"
    },
    "tags": []
   },
   "outputs": [
    {
     "data": {
      "text/plain": [
       "<Axes: xlabel='SepalLengthCm', ylabel='SepalWidthCm'>"
      ]
     },
     "execution_count": 13,
     "metadata": {},
     "output_type": "execute_result"
    },
    {
     "data": {
      "image/png": "[encoded data removed]",
      "text/plain": [
       "<Figure size 640x480 with 1 Axes>"
      ]
     },
     "metadata": {},
     "output_type": "display_data"
    }
   ],
   "source": [
    "sns.scatterplot(data = iris, x = 'SepalLengthCm', y = 'SepalWidthCm', hue = 'Species')"
   ]
  },
  {
   "cell_type": "code",
   "execution_count": 14,
   "id": "a111afd6",
   "metadata": {
    "execution": {
     "iopub.execute_input": "2025-08-09T11:28:30.959293Z",
     "iopub.status.busy": "2025-08-09T11:28:30.958934Z",
     "iopub.status.idle": "2025-08-09T11:28:31.221610Z",
     "shell.execute_reply": "2025-08-09T11:28:31.220795Z"
    },
    "papermill": {
     "duration": 0.272951,
     "end_time": "2025-08-09T11:28:31.222994",
     "exception": false,
     "start_time": "2025-08-09T11:28:30.950043",
     "status": "completed"
    },
    "tags": []
   },
   "outputs": [
    {
     "name": "stderr",
     "output_type": "stream",
     "text": [
      "/usr/local/lib/python3.11/dist-packages/seaborn/_oldcore.py:1119: FutureWarning: use_inf_as_na option is deprecated and will be removed in a future version. Convert inf values to NaN before operating instead.\n",
      "  with pd.option_context('mode.use_inf_as_na', True):\n",
      "/usr/local/lib/python3.11/dist-packages/seaborn/_oldcore.py:1119: FutureWarning: use_inf_as_na option is deprecated and will be removed in a future version. Convert inf values to NaN before operating instead.\n",
      "  with pd.option_context('mode.use_inf_as_na', True):\n",
      "/usr/local/lib/python3.11/dist-packages/seaborn/_oldcore.py:1075: FutureWarning: When grouping with a length-1 list-like, you will need to pass a length-1 tuple to get_group in a future version of pandas. Pass `(name,)` instead of `name` to silence this warning.\n",
      "  data_subset = grouped_data.get_group(pd_key)\n",
      "/usr/local/lib/python3.11/dist-packages/seaborn/_oldcore.py:1075: FutureWarning: When grouping with a length-1 list-like, you will need to pass a length-1 tuple to get_group in a future version of pandas. Pass `(name,)` instead of `name` to silence this warning.\n",
      "  data_subset = grouped_data.get_group(pd_key)\n"
     ]
    },
    {
     "data": {
      "text/plain": [
       "<Axes: xlabel='PetalLengthCm', ylabel='PetalWidthCm'>"
      ]
     },
     "execution_count": 14,
     "metadata": {},
     "output_type": "execute_result"
    },
    {
     "data": {
      "image/png": "[encoded data removed]",
      "text/plain": [
       "<Figure size 640x480 with 1 Axes>"
      ]
     },
     "metadata": {},
     "output_type": "display_data"
    }
   ],
   "source": [
    "sns.histplot(data = iris, x = 'PetalLengthCm', y = 'PetalWidthCm', hue = 'Species')"
   ]
  },
  {
   "cell_type": "code",
   "execution_count": 15,
   "id": "4d621c90",
   "metadata": {
    "execution": {
     "iopub.execute_input": "2025-08-09T11:28:31.235352Z",
     "iopub.status.busy": "2025-08-09T11:28:31.234967Z",
     "iopub.status.idle": "2025-08-09T11:28:31.356956Z",
     "shell.execute_reply": "2025-08-09T11:28:31.356085Z"
    },
    "papermill": {
     "duration": 0.12959,
     "end_time": "2025-08-09T11:28:31.358392",
     "exception": false,
     "start_time": "2025-08-09T11:28:31.228802",
     "status": "completed"
    },
    "tags": []
   },
   "outputs": [
    {
     "data": {
      "text/plain": [
       "<Axes: xlabel='SepalLengthCm'>"
      ]
     },
     "execution_count": 15,
     "metadata": {},
     "output_type": "execute_result"
    },
    {
     "data": {
      "image/png": "[encoded data removed]",
      "text/plain": [
       "<Figure size 640x480 with 1 Axes>"
      ]
     },
     "metadata": {},
     "output_type": "display_data"
    }
   ],
   "source": [
    "sns.boxplot(data = iris, x = 'SepalLengthCm', hue = 'Species')"
   ]
  }
 ],
 "metadata": {
  "kaggle": {
   "accelerator": "none",
   "dataSources": [
    {
     "datasetId": 19,
     "sourceId": 420,
     "sourceType": "datasetVersion"
    },
    {
     "datasetId": 8033156,
     "sourceId": 12710202,
     "sourceType": "datasetVersion"
    },
    {
     "datasetId": 8033233,
     "sourceId": 12710317,
     "sourceType": "datasetVersion"
    },
    {
     "datasetId": 8033265,
     "sourceId": 12710362,
     "sourceType": "datasetVersion"
    }
   ],
   "dockerImageVersionId": 31089,
   "isGpuEnabled": false,
   "isInternetEnabled": false,
   "language": "python",
   "sourceType": "notebook"
  },
  "kernelspec": {
   "display_name": "Python 3",
   "language": "python",
   "name": "python3"
  },
  "language_info": {
   "codemirror_mode": {
    "name": "ipython",
    "version": 3
   },
   "file_extension": ".py",
   "mimetype": "text/x-python",
   "name": "python",
   "nbconvert_exporter": "python",
   "pygments_lexer": "ipython3",
   "version": "3.11.13"
  },
  "papermill": {
   "default_parameters": {},
   "duration": 9.424604,
   "end_time": "2025-08-09T11:28:31.983398",
   "environment_variables": {},
   "exception": null,
   "input_path": "__notebook__.ipynb",
   "output_path": "__notebook__.ipynb",
   "parameters": {},
   "start_time": "2025-08-09T11:28:22.558794",
   "version": "2.6.0"
  }
 },
 "nbformat": 4,
 "nbformat_minor": 5
}
